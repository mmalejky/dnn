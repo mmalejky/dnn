{
  "cells": [
    {
      "cell_type": "markdown",
      "metadata": {
        "id": "ClPl7uPU0YNj"
      },
      "source": [
        "<center><img src='https://drive.google.com/uc?id=1_utx_ZGclmCwNttSe40kYA6VHzNocdET' height=\"60\"></center>\n",
        "\n",
        "AI TECH - Akademia Innowacyjnych Zastosowań Technologii Cyfrowych. Program Operacyjny Polska Cyfrowa na lata 2014-2020\n",
        "<hr>\n",
        "\n",
        "<center><img src='https://drive.google.com/uc?id=1BXZ0u3562N_MqCLcekI-Ens77Kk4LpPm'></center>\n",
        "\n",
        "<center>\n",
        "Projekt współfinansowany ze środków Unii Europejskiej w ramach Europejskiego Funduszu Rozwoju Regionalnego \n",
        "Program Operacyjny Polska Cyfrowa na lata 2014-2020,\n",
        "Oś Priorytetowa nr 3 \"Cyfrowe kompetencje społeczeństwa\" Działanie  nr 3.2 \"Innowacyjne rozwiązania na rzecz aktywizacji cyfrowej\" \n",
        "Tytuł projektu:  „Akademia Innowacyjnych Zastosowań Technologii Cyfrowych (AI Tech)”\n",
        "    </center>"
      ]
    },
    {
      "cell_type": "markdown",
      "metadata": {
        "id": "4zAUGgAOtbQN"
      },
      "source": [
        "## Variational AutoEncoders\n",
        "\n",
        "In this lab excercise you will train a Variational AutoEncoder to learn the distribution of the MNIST data. You will explore the latent space and learn how to generate new samples. \n",
        "\n",
        "Some notation:\n",
        "* $P^*$ is the true data distribution. We have some samples from this.\n",
        "* $p(z)$ is a *prior* distribution over the latent space. In our model it is multivariate gaussian distribution $N(0,\\mathbb{I})$.\n",
        "* $E(x)$ is the encoder that accepts data points as input and outputs distributions over the latent space $Z$. The produced distribution is denoted $q_\\phi(z|x)$ and is the (approximate) *posterior* distribution. In our model this is mutlivariate gaussian distribution $q_\\phi(z|x) \\sim N(\\mu, diag(\\sigma^2)$. Notes:\n",
        "    1. $\\phi$ are weights of the encoder network.\n",
        "    2. Encoder network accepts data points as input and outputs $\\mu$ and $\\sigma$, which are vectors of the same length as latent space. They are used to construct the approximate posterior distribution $q_\\phi(z|x)$.\n",
        "* $D(z)$ is the decoder that accepts samples from the latent distribution and output parameters of the the likelihood distribution $p_\\theta(x|z)$. In our model this is Bernoulli trial per each pixel $p_\\theta(x|z_0) \\sim Bern(p)$. Notes:\n",
        "    1. $\\theta$ are weights of the decoder network.\n",
        "    2. Decoder network accepts sample from the posterior distribution $q_\\phi(z|x)$ and outputs p, which is a matrix of the shape of the input image. Each value of the matrix is the parameter $\\pi$ of the Bernoulli trial $Bern(\\pi)$ for the corresponding pixel.\n",
        "    3. Data points are clipped to only contain values 0 and 1 so that the model could be trained in the given setup.\n",
        "\n",
        "Loss:\n",
        "The loss that is used is called ELBO (the Evidence Lower Bound).\n",
        "\n",
        "$$ELBO = \\mathbb{E}_{z \\sim q(z|x)} \\big[\\log p_\\theta(x|z)\\big] - \\mathbb{KL}\\big(q_\\phi(z | x) || p(z)\\big).$$\n",
        "\n",
        "The following equation holds:\n",
        "\n",
        "\n",
        "$$\\log p_{\\theta}(x) = ELBO + \\mathbb{KL}(q_\\theta(z|x) || p(z|x))$$\n",
        "\n",
        "Maximization of ELBO is equivalent of minimization of KL-divergence between to variational posterior distribution and the true posterior distribution.\n",
        "\n",
        "The first term of the loss is trained via stochastic gradient descent. The second term can be calculated analytically in our setup and is equal to:\n",
        "\n",
        "$$ \\mathbb{KL}\\big( \\mathcal{N}(\\mu, \\sigma^2) || \\mathcal{N}(0, 1) \\big) = \\frac12 \\big(\\sigma^2  - \\log(\\sigma^2) + \\mu^2 - 1 \\big).$$\n"
      ]
    },
    {
      "cell_type": "markdown",
      "metadata": {
        "id": "BjytfiYf2E2F"
      },
      "source": [
        "Tasks for the tutorial:\n",
        "1. Run the pipeline and verify that VAE is training and generating decent digit representation.\n",
        "2. Play with training parameters and / or network layers to better learn hidden representation of the data\n",
        "3. Implement sample_latent method in the VariationalAutoEncoder class, which accepts original image as input and outputs samples from the posterior distribution $q_\\phi(z|x)$.\n",
        "4. Implement sample method in the VariationalAutoEncoder class, which accepts sample size and optionally samples from the prior distribution. as input and outputs samples:\n",
        "    1. If samples are not avialable, take a sample $z_0 \\sim p(z)$ from the prior distribution.\n",
        "    2. Decode the latent $p_\\theta(x|z_0) = D_\\theta(z_0)$.\n",
        "    3. Sample a reconstruction from the likelihood: $x_0 \\sim p_\\theta(x|z_0)$.\n",
        "5. Explore the latent space. For each class encode a sample (>=100) of images of that class and take one parameters from the posterior distribution $q_\\phi(z|x)$ per image. Visualize samples as scatter plot. Remember to color points according to image classes!\n",
        "5. Sample two points $z_0, z_1$ from the prior distibution $p(z)$. Perform interpolation i.e. visualize how samples change based on points from segment ended by $z_0$ and $z_1$."
      ]
    },
    {
      "cell_type": "code",
      "execution_count": null,
      "metadata": {
        "id": "IS7ArVp7OUX7"
      },
      "outputs": [],
      "source": [
        "import torch\n",
        "import torch.nn as nn\n",
        "import torch.nn.functional as F\n",
        "import torch.optim as optim\n",
        "from torchvision import datasets, transforms\n",
        "import torchvision.utils as vutils\n",
        "\n",
        "from collections import namedtuple\n",
        "import numpy as np\n",
        "import matplotlib.pyplot as plt"
      ]
    },
    {
      "cell_type": "code",
      "execution_count": null,
      "metadata": {
        "id": "sClt7yRJe9ei"
      },
      "outputs": [],
      "source": [
        "batch_size = 1024\n",
        "test_batch_size = 1000\n",
        "epochs = 15\n",
        "lr = 5e-3\n",
        "use_cuda = False\n",
        "seed = 1\n",
        "log_interval = 5\n",
        "\n",
        "latent_size = 200"
      ]
    },
    {
      "cell_type": "code",
      "execution_count": null,
      "metadata": {
        "id": "SlR2Jo4we9hR"
      },
      "outputs": [],
      "source": [
        "use_cuda = not use_cuda and torch.cuda.is_available()\n",
        "\n",
        "torch.manual_seed(seed)\n",
        "device = torch.device(\"cuda\" if use_cuda else \"cpu\")\n",
        "\n",
        "train_kwargs = {'batch_size': batch_size}\n",
        "test_kwargs = {'batch_size': test_batch_size}\n",
        "if use_cuda:\n",
        "    cuda_kwargs = {'num_workers': 1,\n",
        "                    'pin_memory': True,\n",
        "                    'shuffle': True}\n",
        "    train_kwargs.update(cuda_kwargs)\n",
        "    test_kwargs.update(cuda_kwargs)"
      ]
    },
    {
      "cell_type": "code",
      "execution_count": null,
      "metadata": {
        "id": "rT86Jr8Fhbjv"
      },
      "outputs": [],
      "source": [
        "def visualize_data(\n",
        "    images, \n",
        "    labels,\n",
        "    max_images, max_fig_size=(30, 30)):\n",
        "  \n",
        "    num_frames, num_channels, h, w, = images.shape\n",
        "    num_frames = min(num_frames, max_images)\n",
        "    ff, axes = plt.subplots(1, num_frames,\n",
        "                            figsize=max_fig_size,\n",
        "                            subplot_kw={'xticks': [], 'yticks': []})\n",
        "    if num_frames == 1:\n",
        "        axes = [axes]\n",
        "    \n",
        "    for i in range(0, num_frames):\n",
        "        if num_channels == 3:\n",
        "            axes[i].imshow(np.squeeze(images[i]))\n",
        "        else:\n",
        "            axes[i].imshow(np.squeeze(images[i]), cmap='gray')\n",
        "        if labels is not None:\n",
        "            axes[i].set_title(labels[i].item(), fontsize=28)\n",
        "        plt.setp(axes[i].get_xticklabels(), visible=False)\n",
        "        plt.setp(axes[i].get_yticklabels(), visible=False)\n",
        "    ff.subplots_adjust(wspace=0.1)\n",
        "    plt.show()"
      ]
    },
    {
      "cell_type": "code",
      "execution_count": null,
      "metadata": {
        "id": "K2CtBG2eT4wf"
      },
      "outputs": [],
      "source": [
        "class Binarize:\n",
        "    def __call__(self, sample):\n",
        "        return torch.bernoulli(sample)\n",
        "\n",
        "transform=transforms.Compose([\n",
        "    transforms.ToTensor(),\n",
        "    Binarize()\n",
        "    ])\n",
        "dataset1 = datasets.MNIST('../data', train=True, download=True,\n",
        "                    transform=transform)\n",
        "dataset2 = datasets.MNIST('../data', train=False,\n",
        "                    transform=transform)\n",
        "train_loader = torch.utils.data.DataLoader(dataset1,**train_kwargs)\n",
        "test_loader = torch.utils.data.DataLoader(dataset2, **test_kwargs)"
      ]
    },
    {
      "cell_type": "code",
      "execution_count": null,
      "metadata": {
        "colab": {
          "base_uri": "https://localhost:8080/",
          "height": 242
        },
        "id": "rgKkmCvrgK02",
        "outputId": "0a1686cd-ea87-4ec1-aaef-b4dcad4536c0"
      },
      "outputs": [
        {
          "data": {
            "image/png": "[encoded data removed]",
            "text/plain": [
              "<Figure size 2160x2160 with 8 Axes>"
            ]
          },
          "metadata": {},
          "output_type": "display_data"
        }
      ],
      "source": [
        "real_batch = next(iter(train_loader))\n",
        "visualize_data(real_batch[0], real_batch[1], 8)"
      ]
    },
    {
      "cell_type": "code",
      "execution_count": null,
      "metadata": {
        "id": "Q8uArUpViSR6"
      },
      "outputs": [],
      "source": [
        "EncoderOutput = namedtuple(\"EncoderOutput\", [\"mu\", \"sigma\"])\n",
        "\n",
        "class Encoder(nn.Module):\n",
        "  def __init__(\n",
        "      self,\n",
        "      linear_sizes,\n",
        "      latent_size,\n",
        "      *args,\n",
        "      **kwargs\n",
        "    ):\n",
        "    super().__init__()\n",
        "    self.layers = nn.ModuleList()\n",
        "    for in_layer_size, out_layer_size in zip(linear_sizes, linear_sizes[1:]):\n",
        "        self.layers.append(nn.Linear(in_layer_size, out_layer_size, *args, **kwargs))\n",
        "        self.layers.append(nn.BatchNorm1d(out_layer_size))\n",
        "        self.layers.append(nn.ReLU())\n",
        "    \n",
        "    self.last_layer_mu = nn.Linear(linear_sizes[-1], latent_size)\n",
        "    self.last_layer_sigma = nn.Linear(linear_sizes[-1], latent_size)\n",
        "\n",
        "  def forward(self, x):\n",
        "    x = nn.Flatten()(x)\n",
        "    for layer in self.layers:\n",
        "        x = layer(x)\n",
        "\n",
        "    mu = self.last_layer_mu(x)\n",
        "    logsigma = self.last_layer_sigma(x)\n",
        "    return EncoderOutput(mu, torch.log(1 + torch.exp(logsigma)))"
      ]
    },
    {
      "cell_type": "code",
      "execution_count": null,
      "metadata": {
        "id": "mzhckY-fiSdC"
      },
      "outputs": [],
      "source": [
        "class Decoder(nn.Module):\n",
        "  def __init__(\n",
        "      self,\n",
        "      linear_sizes,\n",
        "      output_size,\n",
        "      *args,\n",
        "      **kwargs\n",
        "    ):\n",
        "    super().__init__()\n",
        "    self.layers = nn.ModuleList()\n",
        "    for in_layer_size, out_layer_size in zip(linear_sizes, linear_sizes[1:]):\n",
        "        self.layers.append(nn.Linear(in_layer_size, out_layer_size, *args, **kwargs))\n",
        "        self.layers.append(nn.BatchNorm1d(out_layer_size))\n",
        "        self.layers.append(nn.ReLU())\n",
        "    \n",
        "    self.last_layer = nn.Sequential(\n",
        "        nn.Linear(linear_sizes[-1], output_size[0] * output_size[1]),\n",
        "        nn.Sigmoid()\n",
        "    )\n",
        "    self.output_size = output_size\n",
        "\n",
        "  def forward(self, z):\n",
        "    for layer in self.layers:\n",
        "        z = layer(z)\n",
        "\n",
        "    x = self.last_layer(z)\n",
        "\n",
        "    x = x.view(-1, 1, *self.output_size)\n",
        "    return x"
      ]
    },
    {
      "cell_type": "code",
      "execution_count": null,
      "metadata": {
        "id": "1DTAUBAWO-uO"
      },
      "outputs": [],
      "source": [
        "VariationalAutoEncoderOutput = namedtuple(\"VariationalAutoEncoderOutput\", [\"mu\", \"sigma\", \"p\"])\n",
        "\n",
        "\n",
        "class VariationalAutoEncoder(nn.Module):\n",
        "    def __init__(self, \n",
        "                 encoder_linear_sizes,\n",
        "                 latent_size,\n",
        "                 decoder_linear_sizes,\n",
        "                 output_size):\n",
        "        super().__init__()\n",
        "        self.encoder = Encoder(encoder_linear_sizes, \n",
        "                               latent_size)\n",
        "        self.decoder = Decoder(decoder_linear_sizes, \n",
        "                               output_size)\n",
        "        self.latent_size = latent_size\n",
        "        self.output_size = output_size\n",
        "\n",
        "    def forward(self, x):\n",
        "        encoded = self.encoder(x)\n",
        "\n",
        "        z = torch.normal(0., 1., size=list(encoded.mu.size()))\n",
        "        z = ( z * encoded.sigma ) + encoded.mu\n",
        "\n",
        "        decoded = self.decoder(z)\n",
        "        return VariationalAutoEncoderOutput(encoded.mu, encoded.sigma, decoded)\n",
        "\n",
        "    def sample_latent(self, x):\n",
        "        # TODO: Task 3.\n",
        "        pass\n",
        "\n",
        "    def sample(self, sample_size, samples=None):\n",
        "        # TODO: Task 4.\n",
        "        pass\n"
      ]
    },
    {
      "cell_type": "code",
      "execution_count": null,
      "metadata": {
        "id": "TxH7c7DLUqaK"
      },
      "outputs": [],
      "source": [
        "def KL_gaussian_loss(mu, sigma):\n",
        "    return torch.mean(((sigma * sigma) - (2 * torch.log(sigma)) + (mu * mu) - 1) / 2)\n",
        "\n",
        "def ELBO(x, p, mu, sigma):\n",
        "    BCE = F.binary_cross_entropy(p, x)\n",
        "    KL = KL_gaussian_loss(mu, sigma)\n",
        "    return BCE + KL"
      ]
    },
    {
      "cell_type": "code",
      "execution_count": null,
      "metadata": {
        "id": "RaLfX073T4y2"
      },
      "outputs": [],
      "source": [
        "def train(model, device, train_loader, optimizer, epoch, log_interval):\n",
        "    model.train()\n",
        "    for batch_idx, (data, _) in enumerate(train_loader):\n",
        "        data = data.to(device)\n",
        "        optimizer.zero_grad()\n",
        "        output = model(data)\n",
        "        loss = ELBO(data, output.p, output.mu, output.sigma)\n",
        "        loss.backward()\n",
        "        optimizer.step()\n",
        "        if batch_idx % log_interval == 0:\n",
        "            print('Train Epoch: {} [{}/{} ({:.0f}%)]\\tLoss: {:.6f}'.format(\n",
        "                epoch, batch_idx * len(data), len(train_loader.dataset),\n",
        "                100. * batch_idx / len(train_loader), loss.item()))\n",
        "\n",
        "def test(model, device, test_loader):\n",
        "    model.eval()\n",
        "    test_loss = 0\n",
        "    with torch.no_grad():\n",
        "        for batch_idx, (data, _) in enumerate(test_loader):\n",
        "            data = data.to(device)\n",
        "            output = model(data)\n",
        "            loss = ELBO(data, output.p, output.mu, output.sigma)\n",
        "            test_loss = test_loss + (loss * data.size(0))\n",
        "\n",
        "    test_loss /= len(test_loader.dataset)\n",
        "\n",
        "    print('\\nTest set: Average loss: {:.4f}\\n'.format(test_loss))"
      ]
    },
    {
      "cell_type": "code",
      "execution_count": null,
      "metadata": {
        "id": "OPvtDGH_ahlH"
      },
      "outputs": [],
      "source": [
        "vae = VariationalAutoEncoder([28 * 28, 500, 350], latent_size, [200, 350, 500], (28, 28))\n",
        "vae.to(device)\n",
        "optimizer = optim.Adam(vae.parameters(), lr=lr)"
      ]
    },
    {
      "cell_type": "code",
      "execution_count": null,
      "metadata": {
        "colab": {
          "base_uri": "https://localhost:8080/"
        },
        "id": "ImwdwB4CnT2Y",
        "outputId": "e5229951-b1c9-4611-fdf9-98e1d780e200"
      },
      "outputs": [
        {
          "name": "stdout",
          "output_type": "stream",
          "text": [
            "Train Epoch: 1 [0/60000 (0%)]\tLoss: 0.956458\n",
            "Train Epoch: 1 [5120/60000 (8%)]\tLoss: 0.368839\n",
            "Train Epoch: 1 [10240/60000 (17%)]\tLoss: 0.317648\n",
            "Train Epoch: 1 [15360/60000 (25%)]\tLoss: 0.281838\n",
            "Train Epoch: 1 [20480/60000 (34%)]\tLoss: 0.268459\n",
            "Train Epoch: 1 [25600/60000 (42%)]\tLoss: 0.250423\n",
            "Train Epoch: 1 [30720/60000 (51%)]\tLoss: 0.246380\n",
            "Train Epoch: 1 [35840/60000 (59%)]\tLoss: 0.255159\n",
            "Train Epoch: 1 [40960/60000 (68%)]\tLoss: 0.245417\n",
            "Train Epoch: 1 [46080/60000 (76%)]\tLoss: 0.243567\n",
            "Train Epoch: 1 [51200/60000 (85%)]\tLoss: 0.241546\n",
            "Train Epoch: 1 [56320/60000 (93%)]\tLoss: 0.235634\n",
            "\n",
            "Test set: Average loss: 0.2370\n",
            "\n",
            "Train Epoch: 2 [0/60000 (0%)]\tLoss: 0.233224\n",
            "Train Epoch: 2 [5120/60000 (8%)]\tLoss: 0.237979\n",
            "Train Epoch: 2 [10240/60000 (17%)]\tLoss: 0.233732\n",
            "Train Epoch: 2 [15360/60000 (25%)]\tLoss: 0.230940\n",
            "Train Epoch: 2 [20480/60000 (34%)]\tLoss: 0.233720\n",
            "Train Epoch: 2 [25600/60000 (42%)]\tLoss: 0.227393\n",
            "Train Epoch: 2 [30720/60000 (51%)]\tLoss: 0.227179\n",
            "Train Epoch: 2 [35840/60000 (59%)]\tLoss: 0.238395\n",
            "Train Epoch: 2 [40960/60000 (68%)]\tLoss: 0.232289\n",
            "Train Epoch: 2 [46080/60000 (76%)]\tLoss: 0.233110\n",
            "Train Epoch: 2 [51200/60000 (85%)]\tLoss: 0.231603\n",
            "Train Epoch: 2 [56320/60000 (93%)]\tLoss: 0.227541\n",
            "\n",
            "Test set: Average loss: 0.2283\n",
            "\n",
            "Train Epoch: 3 [0/60000 (0%)]\tLoss: 0.225841\n",
            "Train Epoch: 3 [5120/60000 (8%)]\tLoss: 0.228045\n",
            "Train Epoch: 3 [10240/60000 (17%)]\tLoss: 0.228065\n",
            "Train Epoch: 3 [15360/60000 (25%)]\tLoss: 0.225690\n",
            "Train Epoch: 3 [20480/60000 (34%)]\tLoss: 0.227217\n",
            "Train Epoch: 3 [25600/60000 (42%)]\tLoss: 0.223006\n",
            "Train Epoch: 3 [30720/60000 (51%)]\tLoss: 0.220120\n",
            "Train Epoch: 3 [35840/60000 (59%)]\tLoss: 0.230674\n",
            "Train Epoch: 3 [40960/60000 (68%)]\tLoss: 0.224332\n",
            "Train Epoch: 3 [46080/60000 (76%)]\tLoss: 0.224338\n",
            "Train Epoch: 3 [51200/60000 (85%)]\tLoss: 0.223897\n",
            "Train Epoch: 3 [56320/60000 (93%)]\tLoss: 0.216956\n",
            "\n",
            "Test set: Average loss: 0.2199\n",
            "\n",
            "Train Epoch: 4 [0/60000 (0%)]\tLoss: 0.216458\n",
            "Train Epoch: 4 [5120/60000 (8%)]\tLoss: 0.220146\n",
            "Train Epoch: 4 [10240/60000 (17%)]\tLoss: 0.217811\n",
            "Train Epoch: 4 [15360/60000 (25%)]\tLoss: 0.216897\n",
            "Train Epoch: 4 [20480/60000 (34%)]\tLoss: 0.217656\n",
            "Train Epoch: 4 [25600/60000 (42%)]\tLoss: 0.214301\n",
            "Train Epoch: 4 [30720/60000 (51%)]\tLoss: 0.212340\n",
            "Train Epoch: 4 [35840/60000 (59%)]\tLoss: 0.221447\n",
            "Train Epoch: 4 [40960/60000 (68%)]\tLoss: 0.213922\n",
            "Train Epoch: 4 [46080/60000 (76%)]\tLoss: 0.214634\n",
            "Train Epoch: 4 [51200/60000 (85%)]\tLoss: 0.213500\n",
            "Train Epoch: 4 [56320/60000 (93%)]\tLoss: 0.207971\n",
            "\n",
            "Test set: Average loss: 0.2092\n",
            "\n",
            "Train Epoch: 5 [0/60000 (0%)]\tLoss: 0.205668\n",
            "Train Epoch: 5 [5120/60000 (8%)]\tLoss: 0.209122\n",
            "Train Epoch: 5 [10240/60000 (17%)]\tLoss: 0.206848\n",
            "Train Epoch: 5 [15360/60000 (25%)]\tLoss: 0.207450\n",
            "Train Epoch: 5 [20480/60000 (34%)]\tLoss: 0.207213\n",
            "Train Epoch: 5 [25600/60000 (42%)]\tLoss: 0.205305\n",
            "Train Epoch: 5 [30720/60000 (51%)]\tLoss: 0.203526\n",
            "Train Epoch: 5 [35840/60000 (59%)]\tLoss: 0.212260\n",
            "Train Epoch: 5 [40960/60000 (68%)]\tLoss: 0.206664\n",
            "Train Epoch: 5 [46080/60000 (76%)]\tLoss: 0.207399\n",
            "Train Epoch: 5 [51200/60000 (85%)]\tLoss: 0.205018\n",
            "Train Epoch: 5 [56320/60000 (93%)]\tLoss: 0.202183\n",
            "\n",
            "Test set: Average loss: 0.2027\n",
            "\n",
            "Train Epoch: 6 [0/60000 (0%)]\tLoss: 0.199567\n",
            "Train Epoch: 6 [5120/60000 (8%)]\tLoss: 0.201564\n",
            "Train Epoch: 6 [10240/60000 (17%)]\tLoss: 0.200360\n",
            "Train Epoch: 6 [15360/60000 (25%)]\tLoss: 0.202217\n",
            "Train Epoch: 6 [20480/60000 (34%)]\tLoss: 0.202999\n",
            "Train Epoch: 6 [25600/60000 (42%)]\tLoss: 0.201901\n",
            "Train Epoch: 6 [30720/60000 (51%)]\tLoss: 0.200054\n",
            "Train Epoch: 6 [35840/60000 (59%)]\tLoss: 0.208525\n",
            "Train Epoch: 6 [40960/60000 (68%)]\tLoss: 0.202067\n",
            "Train Epoch: 6 [46080/60000 (76%)]\tLoss: 0.203353\n",
            "Train Epoch: 6 [51200/60000 (85%)]\tLoss: 0.200695\n",
            "Train Epoch: 6 [56320/60000 (93%)]\tLoss: 0.197253\n",
            "\n",
            "Test set: Average loss: 0.1987\n",
            "\n",
            "Train Epoch: 7 [0/60000 (0%)]\tLoss: 0.196545\n",
            "Train Epoch: 7 [5120/60000 (8%)]\tLoss: 0.198655\n",
            "Train Epoch: 7 [10240/60000 (17%)]\tLoss: 0.196108\n",
            "Train Epoch: 7 [15360/60000 (25%)]\tLoss: 0.197429\n",
            "Train Epoch: 7 [20480/60000 (34%)]\tLoss: 0.197780\n",
            "Train Epoch: 7 [25600/60000 (42%)]\tLoss: 0.197179\n",
            "Train Epoch: 7 [30720/60000 (51%)]\tLoss: 0.197124\n",
            "Train Epoch: 7 [35840/60000 (59%)]\tLoss: 0.204603\n",
            "Train Epoch: 7 [40960/60000 (68%)]\tLoss: 0.199836\n",
            "Train Epoch: 7 [46080/60000 (76%)]\tLoss: 0.200794\n",
            "Train Epoch: 7 [51200/60000 (85%)]\tLoss: 0.198757\n",
            "Train Epoch: 7 [56320/60000 (93%)]\tLoss: 0.194687\n",
            "\n",
            "Test set: Average loss: 0.1963\n",
            "\n",
            "Train Epoch: 8 [0/60000 (0%)]\tLoss: 0.193623\n",
            "Train Epoch: 8 [5120/60000 (8%)]\tLoss: 0.196559\n",
            "Train Epoch: 8 [10240/60000 (17%)]\tLoss: 0.192958\n",
            "Train Epoch: 8 [15360/60000 (25%)]\tLoss: 0.195642\n",
            "Train Epoch: 8 [20480/60000 (34%)]\tLoss: 0.197271\n",
            "Train Epoch: 8 [25600/60000 (42%)]\tLoss: 0.195403\n",
            "Train Epoch: 8 [30720/60000 (51%)]\tLoss: 0.193557\n",
            "Train Epoch: 8 [35840/60000 (59%)]\tLoss: 0.201872\n",
            "Train Epoch: 8 [40960/60000 (68%)]\tLoss: 0.197757\n",
            "Train Epoch: 8 [46080/60000 (76%)]\tLoss: 0.197747\n",
            "Train Epoch: 8 [51200/60000 (85%)]\tLoss: 0.195972\n",
            "Train Epoch: 8 [56320/60000 (93%)]\tLoss: 0.192874\n",
            "\n",
            "Test set: Average loss: 0.1938\n",
            "\n",
            "Train Epoch: 9 [0/60000 (0%)]\tLoss: 0.192417\n",
            "Train Epoch: 9 [5120/60000 (8%)]\tLoss: 0.194786\n",
            "Train Epoch: 9 [10240/60000 (17%)]\tLoss: 0.192130\n",
            "Train Epoch: 9 [15360/60000 (25%)]\tLoss: 0.194347\n",
            "Train Epoch: 9 [20480/60000 (34%)]\tLoss: 0.194843\n",
            "Train Epoch: 9 [25600/60000 (42%)]\tLoss: 0.193871\n",
            "Train Epoch: 9 [30720/60000 (51%)]\tLoss: 0.192377\n",
            "Train Epoch: 9 [35840/60000 (59%)]\tLoss: 0.199691\n",
            "Train Epoch: 9 [40960/60000 (68%)]\tLoss: 0.195556\n",
            "Train Epoch: 9 [46080/60000 (76%)]\tLoss: 0.195473\n",
            "Train Epoch: 9 [51200/60000 (85%)]\tLoss: 0.194307\n",
            "Train Epoch: 9 [56320/60000 (93%)]\tLoss: 0.191676\n",
            "\n",
            "Test set: Average loss: 0.1918\n",
            "\n",
            "Train Epoch: 10 [0/60000 (0%)]\tLoss: 0.189930\n",
            "Train Epoch: 10 [5120/60000 (8%)]\tLoss: 0.192701\n",
            "Train Epoch: 10 [10240/60000 (17%)]\tLoss: 0.190310\n",
            "Train Epoch: 10 [15360/60000 (25%)]\tLoss: 0.191553\n",
            "Train Epoch: 10 [20480/60000 (34%)]\tLoss: 0.193246\n",
            "Train Epoch: 10 [25600/60000 (42%)]\tLoss: 0.192560\n",
            "Train Epoch: 10 [30720/60000 (51%)]\tLoss: 0.192232\n",
            "Train Epoch: 10 [35840/60000 (59%)]\tLoss: 0.198798\n",
            "Train Epoch: 10 [40960/60000 (68%)]\tLoss: 0.194111\n",
            "Train Epoch: 10 [46080/60000 (76%)]\tLoss: 0.194888\n",
            "Train Epoch: 10 [51200/60000 (85%)]\tLoss: 0.192730\n",
            "Train Epoch: 10 [56320/60000 (93%)]\tLoss: 0.189997\n",
            "\n",
            "Test set: Average loss: 0.1908\n",
            "\n",
            "Train Epoch: 11 [0/60000 (0%)]\tLoss: 0.189186\n",
            "Train Epoch: 11 [5120/60000 (8%)]\tLoss: 0.192097\n",
            "Train Epoch: 11 [10240/60000 (17%)]\tLoss: 0.188781\n",
            "Train Epoch: 11 [15360/60000 (25%)]\tLoss: 0.190954\n",
            "Train Epoch: 11 [20480/60000 (34%)]\tLoss: 0.191361\n",
            "Train Epoch: 11 [25600/60000 (42%)]\tLoss: 0.191258\n",
            "Train Epoch: 11 [30720/60000 (51%)]\tLoss: 0.190574\n",
            "Train Epoch: 11 [35840/60000 (59%)]\tLoss: 0.197079\n",
            "Train Epoch: 11 [40960/60000 (68%)]\tLoss: 0.193315\n",
            "Train Epoch: 11 [46080/60000 (76%)]\tLoss: 0.193096\n",
            "Train Epoch: 11 [51200/60000 (85%)]\tLoss: 0.190727\n",
            "Train Epoch: 11 [56320/60000 (93%)]\tLoss: 0.188943\n",
            "\n",
            "Test set: Average loss: 0.1887\n",
            "\n",
            "Train Epoch: 12 [0/60000 (0%)]\tLoss: 0.187842\n",
            "Train Epoch: 12 [5120/60000 (8%)]\tLoss: 0.190130\n",
            "Train Epoch: 12 [10240/60000 (17%)]\tLoss: 0.186642\n",
            "Train Epoch: 12 [15360/60000 (25%)]\tLoss: 0.189536\n",
            "Train Epoch: 12 [20480/60000 (34%)]\tLoss: 0.190185\n",
            "Train Epoch: 12 [25600/60000 (42%)]\tLoss: 0.189970\n",
            "Train Epoch: 12 [30720/60000 (51%)]\tLoss: 0.189688\n",
            "Train Epoch: 12 [35840/60000 (59%)]\tLoss: 0.195609\n",
            "Train Epoch: 12 [40960/60000 (68%)]\tLoss: 0.192578\n",
            "Train Epoch: 12 [46080/60000 (76%)]\tLoss: 0.192576\n",
            "Train Epoch: 12 [51200/60000 (85%)]\tLoss: 0.190318\n",
            "Train Epoch: 12 [56320/60000 (93%)]\tLoss: 0.189001\n",
            "\n",
            "Test set: Average loss: 0.1882\n",
            "\n",
            "Train Epoch: 13 [0/60000 (0%)]\tLoss: 0.187222\n",
            "Train Epoch: 13 [5120/60000 (8%)]\tLoss: 0.188655\n",
            "Train Epoch: 13 [10240/60000 (17%)]\tLoss: 0.185929\n",
            "Train Epoch: 13 [15360/60000 (25%)]\tLoss: 0.187837\n",
            "Train Epoch: 13 [20480/60000 (34%)]\tLoss: 0.190123\n",
            "Train Epoch: 13 [25600/60000 (42%)]\tLoss: 0.189663\n",
            "Train Epoch: 13 [30720/60000 (51%)]\tLoss: 0.189710\n",
            "Train Epoch: 13 [35840/60000 (59%)]\tLoss: 0.195194\n",
            "Train Epoch: 13 [40960/60000 (68%)]\tLoss: 0.190714\n",
            "Train Epoch: 13 [46080/60000 (76%)]\tLoss: 0.191778\n",
            "Train Epoch: 13 [51200/60000 (85%)]\tLoss: 0.189575\n",
            "Train Epoch: 13 [56320/60000 (93%)]\tLoss: 0.187822\n",
            "\n",
            "Test set: Average loss: 0.1873\n",
            "\n",
            "Train Epoch: 14 [0/60000 (0%)]\tLoss: 0.186278\n",
            "Train Epoch: 14 [5120/60000 (8%)]\tLoss: 0.188375\n",
            "Train Epoch: 14 [10240/60000 (17%)]\tLoss: 0.186584\n",
            "Train Epoch: 14 [15360/60000 (25%)]\tLoss: 0.187692\n",
            "Train Epoch: 14 [20480/60000 (34%)]\tLoss: 0.188549\n",
            "Train Epoch: 14 [25600/60000 (42%)]\tLoss: 0.188142\n",
            "Train Epoch: 14 [30720/60000 (51%)]\tLoss: 0.188981\n",
            "Train Epoch: 14 [35840/60000 (59%)]\tLoss: 0.194527\n",
            "Train Epoch: 14 [40960/60000 (68%)]\tLoss: 0.191127\n",
            "Train Epoch: 14 [46080/60000 (76%)]\tLoss: 0.191576\n",
            "Train Epoch: 14 [51200/60000 (85%)]\tLoss: 0.189079\n",
            "Train Epoch: 14 [56320/60000 (93%)]\tLoss: 0.186913\n",
            "\n",
            "Test set: Average loss: 0.1871\n",
            "\n",
            "Train Epoch: 15 [0/60000 (0%)]\tLoss: 0.187085\n",
            "Train Epoch: 15 [5120/60000 (8%)]\tLoss: 0.187876\n",
            "Train Epoch: 15 [10240/60000 (17%)]\tLoss: 0.184879\n",
            "Train Epoch: 15 [15360/60000 (25%)]\tLoss: 0.186215\n",
            "Train Epoch: 15 [20480/60000 (34%)]\tLoss: 0.187911\n",
            "Train Epoch: 15 [25600/60000 (42%)]\tLoss: 0.187797\n",
            "Train Epoch: 15 [30720/60000 (51%)]\tLoss: 0.188826\n",
            "Train Epoch: 15 [35840/60000 (59%)]\tLoss: 0.195066\n",
            "Train Epoch: 15 [40960/60000 (68%)]\tLoss: 0.190222\n",
            "Train Epoch: 15 [46080/60000 (76%)]\tLoss: 0.189820\n",
            "Train Epoch: 15 [51200/60000 (85%)]\tLoss: 0.188282\n",
            "Train Epoch: 15 [56320/60000 (93%)]\tLoss: 0.186442\n",
            "\n",
            "Test set: Average loss: 0.1861\n",
            "\n"
          ]
        }
      ],
      "source": [
        "for epoch in range(1, epochs + 1):\n",
        "    train(vae, device, train_loader, optimizer, epoch, log_interval)\n",
        "    test(vae, device, test_loader)"
      ]
    },
    {
      "cell_type": "code",
      "execution_count": null,
      "metadata": {
        "colab": {
          "base_uri": "https://localhost:8080/",
          "height": 242
        },
        "id": "ygIa5GSKT44J",
        "outputId": "0ba9d305-e80d-4fb1-f1e7-46dfe88c2bf3"
      },
      "outputs": [
        {
          "data": {
            "image/png": "[encoded data removed]",
            "text/plain": [
              "<Figure size 2160x2160 with 8 Axes>"
            ]
          },
          "metadata": {},
          "output_type": "display_data"
        }
      ],
      "source": [
        "vae.eval()\n",
        "visualize_data(vae(real_batch[0]).p.detach().cpu().numpy(), labels=real_batch[1].cpu().numpy(), max_images=8)"
      ]
    },
    {
      "cell_type": "code",
      "execution_count": null,
      "metadata": {
        "colab": {
          "base_uri": "https://localhost:8080/",
          "height": 242
        },
        "id": "YYheNObJc2Gt",
        "outputId": "bd1fcad8-1baa-4615-8686-e152d5f369bc"
      },
      "outputs": [
        {
          "data": {
            "image/png": "[encoded data removed]",
            "text/plain": [
              "<Figure size 2160x2160 with 8 Axes>"
            ]
          },
          "metadata": {},
          "output_type": "display_data"
        }
      ],
      "source": [
        "visualize_data(torch.bernoulli(vae(real_batch[0]).p).detach().cpu().numpy(), labels=real_batch[1].cpu().numpy(), max_images=8)"
      ]
    },
    {
      "cell_type": "markdown",
      "metadata": {
        "id": "XbkVo2f-1igD"
      },
      "source": [
        "Visualization of latent space"
      ]
    },
    {
      "cell_type": "code",
      "execution_count": null,
      "metadata": {
        "id": "Uiie8NgLPxHd"
      },
      "outputs": [],
      "source": [
        "# TODO\n",
        "# Task 5."
      ]
    },
    {
      "cell_type": "markdown",
      "metadata": {
        "id": "-EYddyRt1i8O"
      },
      "source": [
        "Sample interpolation"
      ]
    },
    {
      "cell_type": "code",
      "execution_count": null,
      "metadata": {
        "id": "IO3x-eFuP1yI"
      },
      "outputs": [],
      "source": [
        "#%%capture\n",
        "# TODO\n",
        "# Task 6."
      ]
    },
    {
      "cell_type": "code",
      "execution_count": null,
      "metadata": {
        "id": "dnsdVLzcJnTD"
      },
      "outputs": [],
      "source": []
    }
  ],
  "metadata": {
    "colab": {
      "provenance": []
    },
    "kernelspec": {
      "display_name": "Python 3.10.8 ('gsn-JLMYFmkM')",
      "language": "python",
      "name": "python3"
    },
    "language_info": {
      "name": "python",
      "version": "3.10.8"
    },
    "vscode": {
      "interpreter": {
        "hash": "b24dd471e30d41a13314bcb0a6607aa895817efc34b906f957cb683f2502811d"
      }
    }
  },
  "nbformat": 4,
  "nbformat_minor": 0
}
